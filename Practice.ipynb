{
  "nbformat": 4,
  "nbformat_minor": 0,
  "metadata": {
    "colab": {
      "provenance": [],
      "authorship_tag": "ABX9TyOvLVELwCVHls2sc7S+Dik1",
      "include_colab_link": true
    },
    "kernelspec": {
      "name": "python3",
      "display_name": "Python 3"
    },
    "language_info": {
      "name": "python"
    }
  },
  "cells": [
    {
      "cell_type": "markdown",
      "metadata": {
        "id": "view-in-github",
        "colab_type": "text"
      },
      "source": [
        "<a href=\"https://colab.research.google.com/github/EngIslamKhalefa/Python-Examples/blob/main/Practice.ipynb\" target=\"_parent\"><img src=\"https://colab.research.google.com/assets/colab-badge.svg\" alt=\"Open In Colab\"/></a>"
      ]
    },
    {
      "cell_type": "markdown",
      "source": [
        "# Guessing Game"
      ],
      "metadata": {
        "id": "_9NUNYMxR5LG"
      }
    },
    {
      "cell_type": "code",
      "source": [
        "import random\n",
        "\n",
        "version = False\n",
        "\n",
        "if version:\n",
        "  rand_no = int(random.random() * 10)\n",
        "  guess_no = int(input('enter no. of guesses'))\n",
        "  state = False\n",
        "\n",
        "  for i in range(guess_no):\n",
        "    guess = int(input('enter guess> '))\n",
        "    if guess == guess_no:\n",
        "      print('you won')\n",
        "      state = True\n",
        "      break\n",
        "    else:\n",
        "      pass\n",
        "\n",
        "  if not state:\n",
        "    print('you failed!')\n",
        "\n",
        "else:\n",
        "\n",
        "  import random\n",
        "  rand_no = int(random.random() * 10)\n",
        "  guess_no = int(input('enter no. of guesses'))\n",
        "  trials = 0\n",
        "\n",
        "  while trials < guess_no:\n",
        "    guess = int(input('enter guess> '))\n",
        "    if guess == rand_no:\n",
        "      print('you won!')\n",
        "      break\n",
        "    else:\n",
        "      pass\n",
        "    trials += 1\n",
        "\n",
        "  else:\n",
        "    print('you failed!')"
      ],
      "metadata": {
        "id": "6aYrOX3sRtZ_"
      },
      "execution_count": null,
      "outputs": []
    },
    {
      "cell_type": "markdown",
      "source": [
        "# Weight Converter"
      ],
      "metadata": {
        "id": "VbsbdHxxTqZh"
      }
    },
    {
      "cell_type": "code",
      "source": [
        "weight = int(input('weight: '))\n",
        "choice = input('Convert to (l)bs or (k)g: ')\n",
        "\n",
        "# if choice.lower() == 'L'\n",
        "if choice == 'l' or choice == 'L':      \n",
        "    weight *= 0.45\n",
        "    print('you are {} pounds'.format(weight))\n",
        "\n",
        "# elif choice.lower() == 'L'\n",
        "elif choice == 'k' or 'K':\n",
        "    weight /= 0.45\n",
        "    print('you are {} kilos'.format(weight))\n",
        "else:\n",
        "    print('Invalid choice')"
      ],
      "metadata": {
        "id": "fOYdOmMaTmb4"
      },
      "execution_count": null,
      "outputs": []
    },
    {
      "cell_type": "markdown",
      "source": [
        "# Car Game"
      ],
      "metadata": {
        "id": "HPv6Z0xYUC8N"
      }
    },
    {
      "cell_type": "code",
      "source": [
        "choice = \"\"\n",
        "prev_choice = \"\"\n",
        "\n",
        "while True:\n",
        "    choice = input('> ').lower()\n",
        "    if choice == 'help':\n",
        "        print('''\n",
        "start - to start the car\n",
        "stop to stop the car\n",
        "quit - to exit\n",
        "        ''')\n",
        "    elif choice == 'start':\n",
        "        if choice == prev_choice:\n",
        "            print('the car is already started')\n",
        "        else:\n",
        "            print('car started...Ready to go!')\n",
        "    elif choice == 'stop':\n",
        "        if choice == prev_choice:\n",
        "            print('the car is already stopped')\n",
        "        else:\n",
        "            print('car stopped.')\n",
        "    elif choice == 'quit':\n",
        "        break\n",
        "    else:\n",
        "        print(\"Sorry, I don't understand this!\")\n",
        "        choice = prev_choice\n",
        "\n",
        "    prev_choice = choice"
      ],
      "metadata": {
        "id": "hqvuVgnBUGkK"
      },
      "execution_count": null,
      "outputs": []
    },
    {
      "cell_type": "markdown",
      "source": [
        "# New Section"
      ],
      "metadata": {
        "id": "xNdZcFB8UKqW"
      }
    },
    {
      "cell_type": "markdown",
      "source": [
        "# New Section"
      ],
      "metadata": {
        "id": "CNw40LT0ULT2"
      }
    },
    {
      "cell_type": "markdown",
      "source": [
        "# New Section"
      ],
      "metadata": {
        "id": "hJBAzpKcULpm"
      }
    }
  ]
}